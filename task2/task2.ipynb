{
 "cells": [
  {
   "cell_type": "code",
   "execution_count": 10,
   "id": "2d3d81a2",
   "metadata": {},
   "outputs": [
    {
     "name": "stdout",
     "output_type": "stream",
     "text": [
      "Loaded successfully\n"
     ]
    }
   ],
   "source": [
    "import yfinance as yf\n",
    "import pandas as pd\n",
    "from statsmodels.tsa.seasonal import seasonal_decompose\n",
    "from textblob import TextBlob\n",
    "import numpy as np\n",
    "import matplotlib.pyplot as plt\n",
    "import seaborn as sns\n",
    "\n",
    "\n",
    "try:\n",
    "    aapl=pd.read_csv(r\"C:\\Users\\pc\\Desktop\\Data coll\\Week 1\\yfinance_data\\AAPL_historical_data.csv\")\n",
    "    amzn=pd.read_csv(r\"C:\\Users\\pc\\Desktop\\Data coll\\Week 1\\yfinance_data\\AMZN_historical_data.csv\")\n",
    "    goog=pd.read_csv(r\"C:\\Users\\pc\\Desktop\\Data coll\\Week 1\\yfinance_data\\GOOG_historical_data.csv\")\n",
    "    meta=pd.read_csv(r\"C:\\Users\\pc\\Desktop\\Data coll\\Week 1\\yfinance_data\\META_historical_data.csv\")\n",
    "    msft=pd.read_csv(r\"C:\\Users\\pc\\Desktop\\Data coll\\Week 1\\yfinance_data\\MSFT_historical_data.csv\")\n",
    "    nvda=pd.read_csv(r\"C:\\Users\\pc\\Desktop\\Data coll\\Week 1\\yfinance_data\\NVDA_historical_data.csv\")\n",
    "    tsla=pd.read_csv(r\"C:\\Users\\pc\\Desktop\\Data coll\\Week 1\\yfinance_data\\TSLA_historical_data.csv\")\n",
    "    print(\"Loaded successfully\")\n",
    "except:\n",
    "    print(\"Try again\")"
   ]
  },
  {
   "cell_type": "code",
   "execution_count": 12,
   "id": "3af51701",
   "metadata": {},
   "outputs": [
    {
     "data": {
      "text/html": [
       "<div>\n",
       "<style scoped>\n",
       "    .dataframe tbody tr th:only-of-type {\n",
       "        vertical-align: middle;\n",
       "    }\n",
       "\n",
       "    .dataframe tbody tr th {\n",
       "        vertical-align: top;\n",
       "    }\n",
       "\n",
       "    .dataframe thead th {\n",
       "        text-align: right;\n",
       "    }\n",
       "</style>\n",
       "<table border=\"1\" class=\"dataframe\">\n",
       "  <thead>\n",
       "    <tr style=\"text-align: right;\">\n",
       "      <th></th>\n",
       "      <th>Date</th>\n",
       "      <th>Open</th>\n",
       "      <th>High</th>\n",
       "      <th>Low</th>\n",
       "      <th>Close</th>\n",
       "      <th>Adj Close</th>\n",
       "      <th>Volume</th>\n",
       "      <th>Dividends</th>\n",
       "      <th>Stock Splits</th>\n",
       "    </tr>\n",
       "  </thead>\n",
       "  <tbody>\n",
       "    <tr>\n",
       "      <th>0</th>\n",
       "      <td>2010-06-29</td>\n",
       "      <td>1.266667</td>\n",
       "      <td>1.666667</td>\n",
       "      <td>1.169333</td>\n",
       "      <td>1.592667</td>\n",
       "      <td>1.592667</td>\n",
       "      <td>281494500</td>\n",
       "      <td>0.0</td>\n",
       "      <td>0.0</td>\n",
       "    </tr>\n",
       "    <tr>\n",
       "      <th>1</th>\n",
       "      <td>2010-06-30</td>\n",
       "      <td>1.719333</td>\n",
       "      <td>2.028000</td>\n",
       "      <td>1.553333</td>\n",
       "      <td>1.588667</td>\n",
       "      <td>1.588667</td>\n",
       "      <td>257806500</td>\n",
       "      <td>0.0</td>\n",
       "      <td>0.0</td>\n",
       "    </tr>\n",
       "    <tr>\n",
       "      <th>2</th>\n",
       "      <td>2010-07-01</td>\n",
       "      <td>1.666667</td>\n",
       "      <td>1.728000</td>\n",
       "      <td>1.351333</td>\n",
       "      <td>1.464000</td>\n",
       "      <td>1.464000</td>\n",
       "      <td>123282000</td>\n",
       "      <td>0.0</td>\n",
       "      <td>0.0</td>\n",
       "    </tr>\n",
       "    <tr>\n",
       "      <th>3</th>\n",
       "      <td>2010-07-02</td>\n",
       "      <td>1.533333</td>\n",
       "      <td>1.540000</td>\n",
       "      <td>1.247333</td>\n",
       "      <td>1.280000</td>\n",
       "      <td>1.280000</td>\n",
       "      <td>77097000</td>\n",
       "      <td>0.0</td>\n",
       "      <td>0.0</td>\n",
       "    </tr>\n",
       "    <tr>\n",
       "      <th>4</th>\n",
       "      <td>2010-07-06</td>\n",
       "      <td>1.333333</td>\n",
       "      <td>1.333333</td>\n",
       "      <td>1.055333</td>\n",
       "      <td>1.074000</td>\n",
       "      <td>1.074000</td>\n",
       "      <td>103003500</td>\n",
       "      <td>0.0</td>\n",
       "      <td>0.0</td>\n",
       "    </tr>\n",
       "  </tbody>\n",
       "</table>\n",
       "</div>"
      ],
      "text/plain": [
       "         Date      Open      High       Low     Close  Adj Close     Volume  \\\n",
       "0  2010-06-29  1.266667  1.666667  1.169333  1.592667   1.592667  281494500   \n",
       "1  2010-06-30  1.719333  2.028000  1.553333  1.588667   1.588667  257806500   \n",
       "2  2010-07-01  1.666667  1.728000  1.351333  1.464000   1.464000  123282000   \n",
       "3  2010-07-02  1.533333  1.540000  1.247333  1.280000   1.280000   77097000   \n",
       "4  2010-07-06  1.333333  1.333333  1.055333  1.074000   1.074000  103003500   \n",
       "\n",
       "   Dividends  Stock Splits  \n",
       "0        0.0           0.0  \n",
       "1        0.0           0.0  \n",
       "2        0.0           0.0  \n",
       "3        0.0           0.0  \n",
       "4        0.0           0.0  "
      ]
     },
     "execution_count": 12,
     "metadata": {},
     "output_type": "execute_result"
    }
   ],
   "source": [
    "tsla.head()"
   ]
  },
  {
   "cell_type": "code",
   "execution_count": null,
   "id": "5cc72e1f",
   "metadata": {},
   "outputs": [],
   "source": []
  }
 ],
 "metadata": {
  "kernelspec": {
   "display_name": "venv",
   "language": "python",
   "name": "python3"
  },
  "language_info": {
   "codemirror_mode": {
    "name": "ipython",
    "version": 3
   },
   "file_extension": ".py",
   "mimetype": "text/x-python",
   "name": "python",
   "nbconvert_exporter": "python",
   "pygments_lexer": "ipython3",
   "version": "3.12.3"
  }
 },
 "nbformat": 4,
 "nbformat_minor": 5
}
