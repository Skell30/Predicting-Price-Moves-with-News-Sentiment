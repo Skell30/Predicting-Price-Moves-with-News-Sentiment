{
 "cells": [
  {
   "cell_type": "code",
   "execution_count": 1,
   "id": "d4b5304f",
   "metadata": {},
   "outputs": [
    {
     "name": "stdout",
     "output_type": "stream",
     "text": [
      "Correct path\n",
      "✅ Loaded AAPL\n",
      "✅ Loaded AMZN\n",
      "✅ Loaded GOOG\n",
      "✅ Loaded MSFT\n",
      "✅ Loaded NVDA\n",
      "✅ Loaded TSLA\n"
     ]
    }
   ],
   "source": [
    "import yfinance as yf\n",
    "import pandas as pd\n",
    "from statsmodels.tsa.seasonal import seasonal_decompose\n",
    "from textblob import TextBlob\n",
    "import numpy as np\n",
    "import matplotlib.pyplot as plt\n",
    "import seaborn as sns\n",
    "import os\n",
    "\n",
    "# Step 1: Define local folder path\n",
    "folder_path = r\"C:\\Users\\pc\\Desktop\\Data coll\\Week 1\\yfinance_data\"\n",
    "\n",
    "# Step 2: Check if path exists\n",
    "if os.path.exists(folder_path):\n",
    "    print(\"Correct path\")\n",
    "    \n",
    "    #List of stock files\n",
    "    stock_files = [\n",
    "        \"AAPL_historical_data.csv\",\n",
    "        \"AMZN_historical_data.csv\",\n",
    "        \"GOOG_historical_data.csv\",\n",
    "        \"MSFT_historical_data.csv\",\n",
    "        \"NVDA_historical_data.csv\",\n",
    "        \"TSLA_historical_data.csv\"\n",
    "    ]\n",
    "\n",
    "    #Dictionary to store DataFrames\n",
    "    stock_data = {}\n",
    "\n",
    "    for file in stock_files:\n",
    "        file_path = os.path.join(folder_path, file)\n",
    "        ticker = file.split(\"_\")[0].upper()\n",
    "        try:\n",
    "            df = pd.read_csv(file_path)\n",
    "            df[\"Date\"] = pd.to_datetime(df[\"Date\"])\n",
    "            stock_data[ticker] = df\n",
    "            print(f\"✅ Loaded {ticker}\")\n",
    "        except Exception as e:\n",
    "            print(f\"Error loading {file}: {e}\")\n",
    "\n",
    "else:\n",
    "    print(\"Path does not exist. Try again.\")"
   ]
  },
  {
   "cell_type": "code",
   "execution_count": null,
   "id": "e4c86583",
   "metadata": {},
   "outputs": [],
   "source": []
  }
 ],
 "metadata": {
  "kernelspec": {
   "display_name": "venv",
   "language": "python",
   "name": "python3"
  },
  "language_info": {
   "codemirror_mode": {
    "name": "ipython",
    "version": 3
   },
   "file_extension": ".py",
   "mimetype": "text/x-python",
   "name": "python",
   "nbconvert_exporter": "python",
   "pygments_lexer": "ipython3",
   "version": "3.12.3"
  }
 },
 "nbformat": 4,
 "nbformat_minor": 5
}
