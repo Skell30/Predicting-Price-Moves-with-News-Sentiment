{
 "cells": [
  {
   "cell_type": "code",
   "execution_count": 100,
   "id": "d24691ba",
   "metadata": {},
   "outputs": [
    {
     "name": "stdout",
     "output_type": "stream",
     "text": [
      "Loaded successfully\n",
      "Hello\n"
     ]
    }
   ],
   "source": [
    "import yfinance as yf\n",
    "import pandas as pd\n",
    "from statsmodels.tsa.seasonal import seasonal_decompose\n",
    "from textblob import TextBlob\n",
    "import numpy as np\n",
    "import matplotlib.pyplot as plt\n",
    "import seaborn as sns\n",
    "\n",
    "\n",
    "try:\n",
    "    raw=pd.read_csv(r\"C:\\Users\\pc\\Desktop\\Data coll\\Week 1\\raw_analyst_ratings.csv\")\n",
    "    print(\"Loaded successfully\")\n",
    "except:\n",
    "    print(\"Try again\")   \n",
    "\n",
    "print(\"Hello\")"
   ]
  },
  {
   "cell_type": "code",
   "execution_count": 20,
   "id": "e49d52ca",
   "metadata": {},
   "outputs": [
    {
     "data": {
      "text/html": [
       "<div>\n",
       "<style scoped>\n",
       "    .dataframe tbody tr th:only-of-type {\n",
       "        vertical-align: middle;\n",
       "    }\n",
       "\n",
       "    .dataframe tbody tr th {\n",
       "        vertical-align: top;\n",
       "    }\n",
       "\n",
       "    .dataframe thead th {\n",
       "        text-align: right;\n",
       "    }\n",
       "</style>\n",
       "<table border=\"1\" class=\"dataframe\">\n",
       "  <thead>\n",
       "    <tr style=\"text-align: right;\">\n",
       "      <th></th>\n",
       "      <th>Unnamed: 0</th>\n",
       "      <th>headline</th>\n",
       "      <th>url</th>\n",
       "      <th>publisher</th>\n",
       "      <th>date</th>\n",
       "      <th>stock</th>\n",
       "    </tr>\n",
       "  </thead>\n",
       "  <tbody>\n",
       "    <tr>\n",
       "      <th>0</th>\n",
       "      <td>0</td>\n",
       "      <td>Stocks That Hit 52-Week Highs On Friday</td>\n",
       "      <td>https://www.benzinga.com/news/20/06/16190091/s...</td>\n",
       "      <td>Benzinga Insights</td>\n",
       "      <td>2020-06-05 10:30:54-04:00</td>\n",
       "      <td>A</td>\n",
       "    </tr>\n",
       "    <tr>\n",
       "      <th>1</th>\n",
       "      <td>1</td>\n",
       "      <td>Stocks That Hit 52-Week Highs On Wednesday</td>\n",
       "      <td>https://www.benzinga.com/news/20/06/16170189/s...</td>\n",
       "      <td>Benzinga Insights</td>\n",
       "      <td>2020-06-03 10:45:20-04:00</td>\n",
       "      <td>A</td>\n",
       "    </tr>\n",
       "    <tr>\n",
       "      <th>2</th>\n",
       "      <td>2</td>\n",
       "      <td>71 Biggest Movers From Friday</td>\n",
       "      <td>https://www.benzinga.com/news/20/05/16103463/7...</td>\n",
       "      <td>Lisa Levin</td>\n",
       "      <td>2020-05-26 04:30:07-04:00</td>\n",
       "      <td>A</td>\n",
       "    </tr>\n",
       "    <tr>\n",
       "      <th>3</th>\n",
       "      <td>3</td>\n",
       "      <td>46 Stocks Moving In Friday's Mid-Day Session</td>\n",
       "      <td>https://www.benzinga.com/news/20/05/16095921/4...</td>\n",
       "      <td>Lisa Levin</td>\n",
       "      <td>2020-05-22 12:45:06-04:00</td>\n",
       "      <td>A</td>\n",
       "    </tr>\n",
       "    <tr>\n",
       "      <th>4</th>\n",
       "      <td>4</td>\n",
       "      <td>B of A Securities Maintains Neutral on Agilent...</td>\n",
       "      <td>https://www.benzinga.com/news/20/05/16095304/b...</td>\n",
       "      <td>Vick Meyer</td>\n",
       "      <td>2020-05-22 11:38:59-04:00</td>\n",
       "      <td>A</td>\n",
       "    </tr>\n",
       "  </tbody>\n",
       "</table>\n",
       "</div>"
      ],
      "text/plain": [
       "   Unnamed: 0                                           headline  \\\n",
       "0           0            Stocks That Hit 52-Week Highs On Friday   \n",
       "1           1         Stocks That Hit 52-Week Highs On Wednesday   \n",
       "2           2                      71 Biggest Movers From Friday   \n",
       "3           3       46 Stocks Moving In Friday's Mid-Day Session   \n",
       "4           4  B of A Securities Maintains Neutral on Agilent...   \n",
       "\n",
       "                                                 url          publisher  \\\n",
       "0  https://www.benzinga.com/news/20/06/16190091/s...  Benzinga Insights   \n",
       "1  https://www.benzinga.com/news/20/06/16170189/s...  Benzinga Insights   \n",
       "2  https://www.benzinga.com/news/20/05/16103463/7...         Lisa Levin   \n",
       "3  https://www.benzinga.com/news/20/05/16095921/4...         Lisa Levin   \n",
       "4  https://www.benzinga.com/news/20/05/16095304/b...         Vick Meyer   \n",
       "\n",
       "                        date stock  \n",
       "0  2020-06-05 10:30:54-04:00     A  \n",
       "1  2020-06-03 10:45:20-04:00     A  \n",
       "2  2020-05-26 04:30:07-04:00     A  \n",
       "3  2020-05-22 12:45:06-04:00     A  \n",
       "4  2020-05-22 11:38:59-04:00     A  "
      ]
     },
     "execution_count": 20,
     "metadata": {},
     "output_type": "execute_result"
    }
   ],
   "source": [
    "raw.head()"
   ]
  },
  {
   "cell_type": "code",
   "execution_count": 26,
   "id": "d5adbfbb",
   "metadata": {},
   "outputs": [
    {
     "name": "stdout",
     "output_type": "stream",
     "text": [
      "<class 'pandas.core.frame.DataFrame'>\n",
      "RangeIndex: 1048575 entries, 0 to 1048574\n",
      "Data columns (total 6 columns):\n",
      " #   Column      Non-Null Count    Dtype \n",
      "---  ------      --------------    ----- \n",
      " 0   Unnamed: 0  1048575 non-null  int64 \n",
      " 1   headline    1048575 non-null  object\n",
      " 2   url         1048575 non-null  object\n",
      " 3   publisher   1048575 non-null  object\n",
      " 4   date        1048575 non-null  object\n",
      " 5   stock       1048575 non-null  object\n",
      "dtypes: int64(1), object(5)\n",
      "memory usage: 48.0+ MB\n"
     ]
    }
   ],
   "source": [
    "raw.info()"
   ]
  },
  {
   "cell_type": "code",
   "execution_count": 57,
   "id": "2f69f4e0",
   "metadata": {},
   "outputs": [],
   "source": [
    "raw['date'] = pd.to_datetime(raw['date'], errors='coerce')"
   ]
  },
  {
   "cell_type": "code",
   "execution_count": 28,
   "id": "81e1a533",
   "metadata": {},
   "outputs": [
    {
     "name": "stdout",
     "output_type": "stream",
     "text": [
      "<class 'pandas.core.frame.DataFrame'>\n",
      "RangeIndex: 1048575 entries, 0 to 1048574\n",
      "Data columns (total 6 columns):\n",
      " #   Column      Non-Null Count    Dtype                    \n",
      "---  ------      --------------    -----                    \n",
      " 0   Unnamed: 0  1048575 non-null  int64                    \n",
      " 1   headline    1048575 non-null  object                   \n",
      " 2   url         1048575 non-null  object                   \n",
      " 3   publisher   1048575 non-null  object                   \n",
      " 4   date        41473 non-null    datetime64[ns, UTC-04:00]\n",
      " 5   stock       1048575 non-null  object                   \n",
      "dtypes: datetime64[ns, UTC-04:00](1), int64(1), object(4)\n",
      "memory usage: 48.0+ MB\n"
     ]
    }
   ],
   "source": [
    "raw.info()"
   ]
  },
  {
   "cell_type": "code",
   "execution_count": 29,
   "id": "38ecfbb1",
   "metadata": {},
   "outputs": [],
   "source": [
    "raw=raw.dropna()"
   ]
  },
  {
   "cell_type": "code",
   "execution_count": 41,
   "id": "82805771",
   "metadata": {},
   "outputs": [],
   "source": [
    "raw.to_csv('clean_data.csv', index=False)"
   ]
  },
  {
   "cell_type": "code",
   "execution_count": 101,
   "id": "c6beb843",
   "metadata": {},
   "outputs": [
    {
     "name": "stdout",
     "output_type": "stream",
     "text": [
      "Loaded successfully\n"
     ]
    }
   ],
   "source": [
    "\n",
    "\n",
    "try:\n",
    "    rw=pd.read_csv(r\"C:\\Users\\pc\\Predicting-Price-Moves-with-News-Sentiment\\task1\\clean_data.csv\")\n",
    "    print(\"Loaded successfully\")\n",
    "except:\n",
    "    print(\"Try again\")   "
   ]
  },
  {
   "cell_type": "code",
   "execution_count": 102,
   "id": "c5ec5492",
   "metadata": {},
   "outputs": [],
   "source": [
    "rw['date'] = pd.to_datetime(rw['date'], errors='coerce')"
   ]
  },
  {
   "cell_type": "code",
   "execution_count": 72,
   "id": "5566ec31",
   "metadata": {},
   "outputs": [],
   "source": [
    "#length of each headline in headline_length new col\n",
    "rw['headline_length'] = rw['headline'].apply(len)"
   ]
  },
  {
   "cell_type": "code",
   "execution_count": 73,
   "id": "f73958bf",
   "metadata": {},
   "outputs": [
    {
     "data": {
      "text/plain": [
       "count    41473.000000\n",
       "mean        79.649555\n",
       "std         55.670238\n",
       "min         15.000000\n",
       "25%         42.000000\n",
       "50%         62.000000\n",
       "75%         91.000000\n",
       "max        512.000000\n",
       "Name: headline_length, dtype: float64"
      ]
     },
     "execution_count": 73,
     "metadata": {},
     "output_type": "execute_result"
    }
   ],
   "source": [
    "#statistics for the headline lengths\n",
    "statistics = rw['headline_length'].describe()\n",
    "statistics"
   ]
  },
  {
   "cell_type": "code",
   "execution_count": 74,
   "id": "d5acffd2",
   "metadata": {},
   "outputs": [
    {
     "data": {
      "text/html": [
       "<div>\n",
       "<style scoped>\n",
       "    .dataframe tbody tr th:only-of-type {\n",
       "        vertical-align: middle;\n",
       "    }\n",
       "\n",
       "    .dataframe tbody tr th {\n",
       "        vertical-align: top;\n",
       "    }\n",
       "\n",
       "    .dataframe thead th {\n",
       "        text-align: right;\n",
       "    }\n",
       "</style>\n",
       "<table border=\"1\" class=\"dataframe\">\n",
       "  <thead>\n",
       "    <tr style=\"text-align: right;\">\n",
       "      <th></th>\n",
       "      <th>Unnamed: 0</th>\n",
       "      <th>headline</th>\n",
       "      <th>url</th>\n",
       "      <th>publisher</th>\n",
       "      <th>date</th>\n",
       "      <th>stock</th>\n",
       "      <th>headline_length</th>\n",
       "      <th>year</th>\n",
       "      <th>month</th>\n",
       "      <th>day</th>\n",
       "      <th>weekday</th>\n",
       "    </tr>\n",
       "  </thead>\n",
       "  <tbody>\n",
       "    <tr>\n",
       "      <th>0</th>\n",
       "      <td>0</td>\n",
       "      <td>Stocks That Hit 52-Week Highs On Friday</td>\n",
       "      <td>https://www.benzinga.com/news/20/06/16190091/s...</td>\n",
       "      <td>Benzinga Insights</td>\n",
       "      <td>2020-06-05 10:30:54-04:00</td>\n",
       "      <td>A</td>\n",
       "      <td>39</td>\n",
       "      <td>2020</td>\n",
       "      <td>6</td>\n",
       "      <td>5</td>\n",
       "      <td>Friday</td>\n",
       "    </tr>\n",
       "    <tr>\n",
       "      <th>1</th>\n",
       "      <td>1</td>\n",
       "      <td>Stocks That Hit 52-Week Highs On Wednesday</td>\n",
       "      <td>https://www.benzinga.com/news/20/06/16170189/s...</td>\n",
       "      <td>Benzinga Insights</td>\n",
       "      <td>2020-06-03 10:45:20-04:00</td>\n",
       "      <td>A</td>\n",
       "      <td>42</td>\n",
       "      <td>2020</td>\n",
       "      <td>6</td>\n",
       "      <td>3</td>\n",
       "      <td>Wednesday</td>\n",
       "    </tr>\n",
       "    <tr>\n",
       "      <th>2</th>\n",
       "      <td>2</td>\n",
       "      <td>71 Biggest Movers From Friday</td>\n",
       "      <td>https://www.benzinga.com/news/20/05/16103463/7...</td>\n",
       "      <td>Lisa Levin</td>\n",
       "      <td>2020-05-26 04:30:07-04:00</td>\n",
       "      <td>A</td>\n",
       "      <td>29</td>\n",
       "      <td>2020</td>\n",
       "      <td>5</td>\n",
       "      <td>26</td>\n",
       "      <td>Tuesday</td>\n",
       "    </tr>\n",
       "    <tr>\n",
       "      <th>3</th>\n",
       "      <td>3</td>\n",
       "      <td>46 Stocks Moving In Friday's Mid-Day Session</td>\n",
       "      <td>https://www.benzinga.com/news/20/05/16095921/4...</td>\n",
       "      <td>Lisa Levin</td>\n",
       "      <td>2020-05-22 12:45:06-04:00</td>\n",
       "      <td>A</td>\n",
       "      <td>44</td>\n",
       "      <td>2020</td>\n",
       "      <td>5</td>\n",
       "      <td>22</td>\n",
       "      <td>Friday</td>\n",
       "    </tr>\n",
       "    <tr>\n",
       "      <th>4</th>\n",
       "      <td>4</td>\n",
       "      <td>B of A Securities Maintains Neutral on Agilent...</td>\n",
       "      <td>https://www.benzinga.com/news/20/05/16095304/b...</td>\n",
       "      <td>Vick Meyer</td>\n",
       "      <td>2020-05-22 11:38:59-04:00</td>\n",
       "      <td>A</td>\n",
       "      <td>87</td>\n",
       "      <td>2020</td>\n",
       "      <td>5</td>\n",
       "      <td>22</td>\n",
       "      <td>Friday</td>\n",
       "    </tr>\n",
       "  </tbody>\n",
       "</table>\n",
       "</div>"
      ],
      "text/plain": [
       "   Unnamed: 0                                           headline  \\\n",
       "0           0            Stocks That Hit 52-Week Highs On Friday   \n",
       "1           1         Stocks That Hit 52-Week Highs On Wednesday   \n",
       "2           2                      71 Biggest Movers From Friday   \n",
       "3           3       46 Stocks Moving In Friday's Mid-Day Session   \n",
       "4           4  B of A Securities Maintains Neutral on Agilent...   \n",
       "\n",
       "                                                 url          publisher  \\\n",
       "0  https://www.benzinga.com/news/20/06/16190091/s...  Benzinga Insights   \n",
       "1  https://www.benzinga.com/news/20/06/16170189/s...  Benzinga Insights   \n",
       "2  https://www.benzinga.com/news/20/05/16103463/7...         Lisa Levin   \n",
       "3  https://www.benzinga.com/news/20/05/16095921/4...         Lisa Levin   \n",
       "4  https://www.benzinga.com/news/20/05/16095304/b...         Vick Meyer   \n",
       "\n",
       "                       date stock  headline_length  year  month  day  \\\n",
       "0 2020-06-05 10:30:54-04:00     A               39  2020      6    5   \n",
       "1 2020-06-03 10:45:20-04:00     A               42  2020      6    3   \n",
       "2 2020-05-26 04:30:07-04:00     A               29  2020      5   26   \n",
       "3 2020-05-22 12:45:06-04:00     A               44  2020      5   22   \n",
       "4 2020-05-22 11:38:59-04:00     A               87  2020      5   22   \n",
       "\n",
       "     weekday  \n",
       "0     Friday  \n",
       "1  Wednesday  \n",
       "2    Tuesday  \n",
       "3     Friday  \n",
       "4     Friday  "
      ]
     },
     "execution_count": 74,
     "metadata": {},
     "output_type": "execute_result"
    }
   ],
   "source": [
    "rw.head()"
   ]
  },
  {
   "cell_type": "code",
   "execution_count": 75,
   "id": "31b99160",
   "metadata": {},
   "outputs": [
    {
     "name": "stdout",
     "output_type": "stream",
     "text": [
      "publisher\n",
      "Benzinga Newsdesk    11174\n",
      "Lisa Levin            9412\n",
      "ETF Professor         3184\n",
      "Paul Quintaro         3035\n",
      "Benzinga Newsdesk     2298\n",
      "                     ...  \n",
      "Tim Melvin               1\n",
      "Ritesh Anan              1\n",
      "Sam Liu                  1\n",
      "Ken Shreve               1\n",
      "Aaron Jackson.Ed         1\n",
      "Name: count, Length: 203, dtype: int64\n"
     ]
    }
   ],
   "source": [
    "print(rw['publisher'].value_counts())"
   ]
  },
  {
   "cell_type": "code",
   "execution_count": 76,
   "id": "b0b25119",
   "metadata": {},
   "outputs": [],
   "source": [
    "rw['year'] = rw['date'].dt.year\n",
    "rw['month'] = rw['date'].dt.month\n",
    "rw['day'] = rw['date'].dt.day\n",
    "rw['weekday'] = rw['date'].dt.day_name()"
   ]
  },
  {
   "cell_type": "code",
   "execution_count": 77,
   "id": "1b02b12a",
   "metadata": {},
   "outputs": [
    {
     "data": {
      "text/plain": [
       "count    27314.000000\n",
       "mean         1.518379\n",
       "std          5.962296\n",
       "min          1.000000\n",
       "25%          1.000000\n",
       "50%          1.000000\n",
       "75%          1.000000\n",
       "max        668.000000\n",
       "Name: count, dtype: float64"
      ]
     },
     "execution_count": 77,
     "metadata": {},
     "output_type": "execute_result"
    }
   ],
   "source": [
    "daily_counts =rw['date'].value_counts().sort_index()\n",
    "daily_counts.describe()"
   ]
  },
  {
   "cell_type": "code",
   "execution_count": 78,
   "id": "e12267d4",
   "metadata": {},
   "outputs": [
    {
     "data": {
      "text/plain": [
       "count       7.000000\n",
       "mean     5924.714286\n",
       "std      3946.929301\n",
       "min       208.000000\n",
       "25%      3612.000000\n",
       "50%      7746.000000\n",
       "75%      8415.500000\n",
       "max      9464.000000\n",
       "Name: count, dtype: float64"
      ]
     },
     "execution_count": 78,
     "metadata": {},
     "output_type": "execute_result"
    }
   ],
   "source": [
    "weekday_counts = rw['weekday'].value_counts().loc[\n",
    "    ['Monday', 'Tuesday', 'Wednesday', 'Thursday', 'Friday', 'Saturday', 'Sunday']\n",
    "]\n",
    "weekday_counts.describe()"
   ]
  },
  {
   "cell_type": "code",
   "execution_count": 79,
   "id": "a9b8531e",
   "metadata": {},
   "outputs": [
    {
     "data": {
      "image/png": "[encoded data removed]",
      "text/plain": [
       "<Figure size 1000x500 with 1 Axes>"
      ]
     },
     "metadata": {},
     "output_type": "display_data"
    }
   ],
   "source": [
    "daily_counts.plot(kind='line', title='publication over time', figsize=(10, 5))\n",
    "plt.xlabel('Date')\n",
    "plt.ylabel('Number of Publications')\n",
    "plt.grid(True)\n",
    "plt.tight_layout()\n",
    "plt.show()"
   ]
  },
  {
   "cell_type": "code",
   "execution_count": 80,
   "id": "a072d9c6",
   "metadata": {},
   "outputs": [
    {
     "data": {
      "image/png": "[encoded data removed]",
      "text/plain": [
       "<Figure size 640x480 with 1 Axes>"
      ]
     },
     "metadata": {},
     "output_type": "display_data"
    }
   ],
   "source": [
    "weekday_counts.plot(kind='bar', title='Publications by Weekday', color='skyblue')\n",
    "plt.xlabel('Day of Week')\n",
    "plt.ylabel('Number of Publications')\n",
    "plt.grid(axis='y')\n",
    "plt.tight_layout()\n",
    "plt.show()"
   ]
  },
  {
   "cell_type": "code",
   "execution_count": 39,
   "id": "442c2768",
   "metadata": {},
   "outputs": [
    {
     "data": {
      "text/html": [
       "<div>\n",
       "<style scoped>\n",
       "    .dataframe tbody tr th:only-of-type {\n",
       "        vertical-align: middle;\n",
       "    }\n",
       "\n",
       "    .dataframe tbody tr th {\n",
       "        vertical-align: top;\n",
       "    }\n",
       "\n",
       "    .dataframe thead th {\n",
       "        text-align: right;\n",
       "    }\n",
       "</style>\n",
       "<table border=\"1\" class=\"dataframe\">\n",
       "  <thead>\n",
       "    <tr style=\"text-align: right;\">\n",
       "      <th></th>\n",
       "      <th>Unnamed: 0</th>\n",
       "      <th>headline</th>\n",
       "      <th>url</th>\n",
       "      <th>publisher</th>\n",
       "      <th>date</th>\n",
       "      <th>stock</th>\n",
       "      <th>headline_length</th>\n",
       "      <th>year</th>\n",
       "      <th>month</th>\n",
       "      <th>day</th>\n",
       "      <th>weekday</th>\n",
       "    </tr>\n",
       "  </thead>\n",
       "  <tbody>\n",
       "    <tr>\n",
       "      <th>0</th>\n",
       "      <td>0</td>\n",
       "      <td>Stocks That Hit 52-Week Highs On Friday</td>\n",
       "      <td>https://www.benzinga.com/news/20/06/16190091/s...</td>\n",
       "      <td>Benzinga Insights</td>\n",
       "      <td>2020-06-05 10:30:54-04:00</td>\n",
       "      <td>A</td>\n",
       "      <td>39</td>\n",
       "      <td>2020</td>\n",
       "      <td>6</td>\n",
       "      <td>5</td>\n",
       "      <td>Friday</td>\n",
       "    </tr>\n",
       "    <tr>\n",
       "      <th>1</th>\n",
       "      <td>1</td>\n",
       "      <td>Stocks That Hit 52-Week Highs On Wednesday</td>\n",
       "      <td>https://www.benzinga.com/news/20/06/16170189/s...</td>\n",
       "      <td>Benzinga Insights</td>\n",
       "      <td>2020-06-03 10:45:20-04:00</td>\n",
       "      <td>A</td>\n",
       "      <td>42</td>\n",
       "      <td>2020</td>\n",
       "      <td>6</td>\n",
       "      <td>3</td>\n",
       "      <td>Wednesday</td>\n",
       "    </tr>\n",
       "    <tr>\n",
       "      <th>2</th>\n",
       "      <td>2</td>\n",
       "      <td>71 Biggest Movers From Friday</td>\n",
       "      <td>https://www.benzinga.com/news/20/05/16103463/7...</td>\n",
       "      <td>Lisa Levin</td>\n",
       "      <td>2020-05-26 04:30:07-04:00</td>\n",
       "      <td>A</td>\n",
       "      <td>29</td>\n",
       "      <td>2020</td>\n",
       "      <td>5</td>\n",
       "      <td>26</td>\n",
       "      <td>Tuesday</td>\n",
       "    </tr>\n",
       "    <tr>\n",
       "      <th>3</th>\n",
       "      <td>3</td>\n",
       "      <td>46 Stocks Moving In Friday's Mid-Day Session</td>\n",
       "      <td>https://www.benzinga.com/news/20/05/16095921/4...</td>\n",
       "      <td>Lisa Levin</td>\n",
       "      <td>2020-05-22 12:45:06-04:00</td>\n",
       "      <td>A</td>\n",
       "      <td>44</td>\n",
       "      <td>2020</td>\n",
       "      <td>5</td>\n",
       "      <td>22</td>\n",
       "      <td>Friday</td>\n",
       "    </tr>\n",
       "    <tr>\n",
       "      <th>4</th>\n",
       "      <td>4</td>\n",
       "      <td>B of A Securities Maintains Neutral on Agilent...</td>\n",
       "      <td>https://www.benzinga.com/news/20/05/16095304/b...</td>\n",
       "      <td>Vick Meyer</td>\n",
       "      <td>2020-05-22 11:38:59-04:00</td>\n",
       "      <td>A</td>\n",
       "      <td>87</td>\n",
       "      <td>2020</td>\n",
       "      <td>5</td>\n",
       "      <td>22</td>\n",
       "      <td>Friday</td>\n",
       "    </tr>\n",
       "  </tbody>\n",
       "</table>\n",
       "</div>"
      ],
      "text/plain": [
       "   Unnamed: 0                                           headline  \\\n",
       "0           0            Stocks That Hit 52-Week Highs On Friday   \n",
       "1           1         Stocks That Hit 52-Week Highs On Wednesday   \n",
       "2           2                      71 Biggest Movers From Friday   \n",
       "3           3       46 Stocks Moving In Friday's Mid-Day Session   \n",
       "4           4  B of A Securities Maintains Neutral on Agilent...   \n",
       "\n",
       "                                                 url          publisher  \\\n",
       "0  https://www.benzinga.com/news/20/06/16190091/s...  Benzinga Insights   \n",
       "1  https://www.benzinga.com/news/20/06/16170189/s...  Benzinga Insights   \n",
       "2  https://www.benzinga.com/news/20/05/16103463/7...         Lisa Levin   \n",
       "3  https://www.benzinga.com/news/20/05/16095921/4...         Lisa Levin   \n",
       "4  https://www.benzinga.com/news/20/05/16095304/b...         Vick Meyer   \n",
       "\n",
       "                       date stock  headline_length  year  month  day  \\\n",
       "0 2020-06-05 10:30:54-04:00     A               39  2020      6    5   \n",
       "1 2020-06-03 10:45:20-04:00     A               42  2020      6    3   \n",
       "2 2020-05-26 04:30:07-04:00     A               29  2020      5   26   \n",
       "3 2020-05-22 12:45:06-04:00     A               44  2020      5   22   \n",
       "4 2020-05-22 11:38:59-04:00     A               87  2020      5   22   \n",
       "\n",
       "     weekday  \n",
       "0     Friday  \n",
       "1  Wednesday  \n",
       "2    Tuesday  \n",
       "3     Friday  \n",
       "4     Friday  "
      ]
     },
     "execution_count": 39,
     "metadata": {},
     "output_type": "execute_result"
    }
   ],
   "source": [
    "raw.head()"
   ]
  },
  {
   "cell_type": "code",
   "execution_count": 81,
   "id": "d2da124e",
   "metadata": {},
   "outputs": [
    {
     "name": "stdout",
     "output_type": "stream",
     "text": [
      "<class 'pandas.core.frame.DataFrame'>\n",
      "RangeIndex: 41473 entries, 0 to 41472\n",
      "Data columns (total 11 columns):\n",
      " #   Column           Non-Null Count  Dtype                    \n",
      "---  ------           --------------  -----                    \n",
      " 0   Unnamed: 0       41473 non-null  int64                    \n",
      " 1   headline         41473 non-null  object                   \n",
      " 2   url              41473 non-null  object                   \n",
      " 3   publisher        41473 non-null  object                   \n",
      " 4   date             41473 non-null  datetime64[ns, UTC-04:00]\n",
      " 5   stock            41473 non-null  object                   \n",
      " 6   headline_length  41473 non-null  int64                    \n",
      " 7   year             41473 non-null  int32                    \n",
      " 8   month            41473 non-null  int32                    \n",
      " 9   day              41473 non-null  int32                    \n",
      " 10  weekday          41473 non-null  object                   \n",
      "dtypes: datetime64[ns, UTC-04:00](1), int32(3), int64(2), object(5)\n",
      "memory usage: 3.0+ MB\n"
     ]
    }
   ],
   "source": [
    "rw.info()"
   ]
  },
  {
   "cell_type": "code",
   "execution_count": null,
   "id": "5a14e29f",
   "metadata": {},
   "outputs": [],
   "source": [
    "# Count headlines per day\n",
    "daily_headlines = rw.groupby('date').size()\n",
    "\n",
    "# Create a DataFrame for time series analysis\n",
    "time_series_data = pd.DataFrame({'date': daily_headlines.index, 'Headlines_Count': daily_headlines.values})\n",
    "time_series_data.set_index('date', inplace=True)"
   ]
  },
  {
   "cell_type": "code",
   "execution_count": 88,
   "id": "21a4324b",
   "metadata": {},
   "outputs": [
    {
     "data": {
      "text/html": [
       "<div>\n",
       "<style scoped>\n",
       "    .dataframe tbody tr th:only-of-type {\n",
       "        vertical-align: middle;\n",
       "    }\n",
       "\n",
       "    .dataframe tbody tr th {\n",
       "        vertical-align: top;\n",
       "    }\n",
       "\n",
       "    .dataframe thead th {\n",
       "        text-align: right;\n",
       "    }\n",
       "</style>\n",
       "<table border=\"1\" class=\"dataframe\">\n",
       "  <thead>\n",
       "    <tr style=\"text-align: right;\">\n",
       "      <th></th>\n",
       "      <th>Headlines_Count</th>\n",
       "    </tr>\n",
       "    <tr>\n",
       "      <th>date</th>\n",
       "      <th></th>\n",
       "    </tr>\n",
       "  </thead>\n",
       "  <tbody>\n",
       "    <tr>\n",
       "      <th>2011-04-27 21:01:48-04:00</th>\n",
       "      <td>1</td>\n",
       "    </tr>\n",
       "    <tr>\n",
       "      <th>2011-04-28 13:49:29-04:00</th>\n",
       "      <td>1</td>\n",
       "    </tr>\n",
       "    <tr>\n",
       "      <th>2011-04-28 15:00:36-04:00</th>\n",
       "      <td>1</td>\n",
       "    </tr>\n",
       "    <tr>\n",
       "      <th>2011-04-29 13:47:06-04:00</th>\n",
       "      <td>1</td>\n",
       "    </tr>\n",
       "    <tr>\n",
       "      <th>2011-04-29 16:11:05-04:00</th>\n",
       "      <td>1</td>\n",
       "    </tr>\n",
       "    <tr>\n",
       "      <th>...</th>\n",
       "      <td>...</td>\n",
       "    </tr>\n",
       "    <tr>\n",
       "      <th>2020-06-11 16:15:38-04:00</th>\n",
       "      <td>1</td>\n",
       "    </tr>\n",
       "    <tr>\n",
       "      <th>2020-06-11 16:24:41-04:00</th>\n",
       "      <td>1</td>\n",
       "    </tr>\n",
       "    <tr>\n",
       "      <th>2020-06-11 16:25:21-04:00</th>\n",
       "      <td>1</td>\n",
       "    </tr>\n",
       "    <tr>\n",
       "      <th>2020-06-11 16:49:41-04:00</th>\n",
       "      <td>1</td>\n",
       "    </tr>\n",
       "    <tr>\n",
       "      <th>2020-06-11 17:11:20-04:00</th>\n",
       "      <td>1</td>\n",
       "    </tr>\n",
       "  </tbody>\n",
       "</table>\n",
       "<p>27314 rows × 1 columns</p>\n",
       "</div>"
      ],
      "text/plain": [
       "                           Headlines_Count\n",
       "date                                      \n",
       "2011-04-27 21:01:48-04:00                1\n",
       "2011-04-28 13:49:29-04:00                1\n",
       "2011-04-28 15:00:36-04:00                1\n",
       "2011-04-29 13:47:06-04:00                1\n",
       "2011-04-29 16:11:05-04:00                1\n",
       "...                                    ...\n",
       "2020-06-11 16:15:38-04:00                1\n",
       "2020-06-11 16:24:41-04:00                1\n",
       "2020-06-11 16:25:21-04:00                1\n",
       "2020-06-11 16:49:41-04:00                1\n",
       "2020-06-11 17:11:20-04:00                1\n",
       "\n",
       "[27314 rows x 1 columns]"
      ]
     },
     "execution_count": 88,
     "metadata": {},
     "output_type": "execute_result"
    }
   ],
   "source": [
    "time_series_data"
   ]
  },
  {
   "cell_type": "code",
   "execution_count": 94,
   "id": "a6fcb290",
   "metadata": {},
   "outputs": [
    {
     "data": {
      "image/png": "[encoded data removed]",
      "text/plain": [
       "<Figure size 1400x1000 with 4 Axes>"
      ]
     },
     "metadata": {},
     "output_type": "display_data"
    }
   ],
   "source": [
    "decomposition = seasonal_decompose(time_series_data['Headlines_Count'], model='additive', period=4)\n",
    "\n",
    "# Plotting the components\n",
    "plt.figure(figsize=(14, 10))\n",
    "\n",
    "plt.subplot(411)\n",
    "plt.plot(time_series_data['Headlines_Count'], label='Original', color='blue')\n",
    "plt.legend(loc='upper left')\n",
    "\n",
    "plt.subplot(412)\n",
    "plt.plot(decomposition.trend, label='Trend', color='orange')\n",
    "plt.legend(loc='upper left')\n",
    "\n",
    "plt.subplot(413)\n",
    "plt.plot(decomposition.seasonal, label='Seasonal', color='green')\n",
    "plt.legend(loc='upper left')\n",
    "\n",
    "plt.subplot(414)\n",
    "plt.plot(decomposition.resid, label='Residual/Irregular', color='red')\n",
    "plt.legend(loc='upper left')\n",
    "\n",
    "plt.tight_layout()\n",
    "plt.show()"
   ]
  },
  {
   "cell_type": "code",
   "execution_count": 96,
   "id": "1fc043c4",
   "metadata": {},
   "outputs": [
    {
     "name": "stdout",
     "output_type": "stream",
     "text": [
      "25668\n"
     ]
    }
   ],
   "source": [
    "#number of unique headlines\n",
    "print(rw['headline'].nunique())"
   ]
  },
  {
   "cell_type": "code",
   "execution_count": 97,
   "id": "ec929768",
   "metadata": {},
   "outputs": [
    {
     "name": "stdout",
     "output_type": "stream",
     "text": [
      "headline\n",
      "Stocks That Hit 52-Week Lows On Thursday      1391\n",
      "Stocks That Hit 52-Week Lows On Friday         538\n",
      "Stocks That Hit 52-Week Highs On Friday        413\n",
      "Stocks That Hit 52-Week Highs On Tuesday       400\n",
      "Stocks That Hit 52-Week Highs On Wednesday     369\n",
      "Name: count, dtype: int64\n"
     ]
    }
   ],
   "source": [
    "#most frequent headlines\n",
    "print(rw['headline'].value_counts().head())"
   ]
  },
  {
   "cell_type": "code",
   "execution_count": 106,
   "id": "4f921706",
   "metadata": {},
   "outputs": [],
   "source": [
    "def calculate_sentiment(text): \n",
    "    return TextBlob(text).sentiment.polarity\n",
    " \n",
    "#Applying the sentiment analysis function to your headlines \n",
    "rw['Sentiment']= rw[\"headline\"].apply(calculate_sentiment)"
   ]
  },
  {
   "cell_type": "code",
   "execution_count": 107,
   "id": "1b7568a0",
   "metadata": {},
   "outputs": [
    {
     "name": "stdout",
     "output_type": "stream",
     "text": [
      "count    41473.000000\n",
      "mean         0.039001\n",
      "std          0.153338\n",
      "min         -1.000000\n",
      "25%          0.000000\n",
      "50%          0.000000\n",
      "75%          0.022321\n",
      "max          1.000000\n",
      "Name: Sentiment, dtype: float64\n"
     ]
    }
   ],
   "source": [
    "print(rw['Sentiment'].describe())"
   ]
  },
  {
   "cell_type": "code",
   "execution_count": 108,
   "id": "bea8fd0e",
   "metadata": {},
   "outputs": [
    {
     "name": "stdout",
     "output_type": "stream",
     "text": [
      "Sentiment\n",
      " 0.000000    27526\n",
      " 0.500000     1459\n",
      " 0.068182     1424\n",
      " 0.250000      895\n",
      "-0.155556      590\n",
      "Name: count, dtype: int64\n"
     ]
    }
   ],
   "source": [
    "print(rw['Sentiment'].value_counts().head())"
   ]
  },
  {
   "cell_type": "code",
   "execution_count": 109,
   "id": "cd5d7f56",
   "metadata": {},
   "outputs": [
    {
     "name": "stdout",
     "output_type": "stream",
     "text": [
      "773\n"
     ]
    }
   ],
   "source": [
    "print(rw['Sentiment'].nunique())"
   ]
  },
  {
   "cell_type": "code",
   "execution_count": 113,
   "id": "1591769d",
   "metadata": {},
   "outputs": [
    {
     "data": {
      "image/png": "[encoded data removed]",
      "text/plain": [
       "<Figure size 800x400 with 1 Axes>"
      ]
     },
     "metadata": {},
     "output_type": "display_data"
    }
   ],
   "source": [
    "#plot distribution of sentiment score\n",
    "plt.figure(figsize=(8,4))\n",
    "sns.histplot(rw['Sentiment'], bins=20, kde=True)\n",
    "plt.title(\"Distrubtion of sentiment score for headline\")\n",
    "plt.xlabel('sentiment polarity')\n",
    "plt.ylabel(\"Frequency\")\n",
    "plt.gca().spines[['top','right']].set_visible(False)\n",
    "plt.show()"
   ]
  },
  {
   "cell_type": "code",
   "execution_count": 117,
   "id": "357cc1b8",
   "metadata": {},
   "outputs": [
    {
     "name": "stdout",
     "output_type": "stream",
     "text": [
      "\n",
      "most postive headlines\n",
      "      Unnamed: 0                                           headline  \\\n",
      "149         7754  'Great work @AtlasAirWW, thank you!' -Trump In...   \n",
      "2169       67109  Lansdowne Partners Austria GmbH in Amended 13D...   \n",
      "3352       92992  Bitcoin, China, And AI Highlight Some Of The Y...   \n",
      "3369       93066  Bitcoin, China, And AI Highlight Some Of The Y...   \n",
      "4758      131077  BEST Inc. Amended 13D Filing From Alibaba Show...   \n",
      "\n",
      "                                                    url          publisher  \\\n",
      "149   https://www.benzinga.com/news/20/03/15711304/g...  Benzinga Newsdesk   \n",
      "2169  https://www.benzinga.com/news/16/06/8119221/la...      Charles Gross   \n",
      "3352  https://www.benzinga.com/fintech/17/12/1096101...      ETF Professor   \n",
      "3369  https://www.benzinga.com/fintech/17/12/1096101...      ETF Professor   \n",
      "4758  https://www.benzinga.com/news/20/06/16168614/b...  Benzinga Newsdesk   \n",
      "\n",
      "                          date stock  headline_length  year  month  day  \\\n",
      "149  2020-03-31 16:57:03-04:00  AAWW               73  2020      3   31   \n",
      "2169 2016-06-16 09:28:36-04:00  ALXA              153  2016      6   16   \n",
      "3352 2017-12-28 16:15:28-04:00  ARKK               61  2017     12   28   \n",
      "3369 2017-12-28 16:15:28-04:00  ARKW               61  2017     12   28   \n",
      "4758 2020-06-03 08:55:04-04:00  BABA               80  2020      6    3   \n",
      "\n",
      "        weekday  Sentiment  \n",
      "149     Tuesday        1.0  \n",
      "2169   Thursday        1.0  \n",
      "3352   Thursday        1.0  \n",
      "3369   Thursday        1.0  \n",
      "4758  Wednesday        1.0  \n"
     ]
    }
   ],
   "source": [
    "most_positive_headlines=rw.nlargest(5,'Sentiment')\n",
    "print(\"\\nmost postive headlines\")\n",
    "print(most_positive_headlines)\n",
    "\n"
   ]
  },
  {
   "cell_type": "code",
   "execution_count": 118,
   "id": "c5337000",
   "metadata": {},
   "outputs": [
    {
     "name": "stdout",
     "output_type": "stream",
     "text": [
      "\n",
      "most negative headlines\n",
      "      Unnamed: 0                                           headline  \\\n",
      "748        21949  Worst Performing Industries For September 9, 2015   \n",
      "2173       67113     Worst Performing Industries For April 26, 2016   \n",
      "2277       70273      Worst Performing Industries For July 18, 2016   \n",
      "2968       84395  Mizuho Upgrades Occidental Petroleum, Says Wor...   \n",
      "3018       86546  Worst Performing Industries For December 10, 2014   \n",
      "\n",
      "                                                    url    publisher  \\\n",
      "748   https://www.benzinga.com/news/15/09/5825362/wo...   Lisa Levin   \n",
      "2173  https://www.benzinga.com/news/16/04/7884844/wo...   Lisa Levin   \n",
      "2277  https://www.benzinga.com/news/16/07/8227811/wo...   Lisa Levin   \n",
      "2968  https://www.benzinga.com/analyst-ratings/analy...  Priya Nigam   \n",
      "3018  https://www.benzinga.com/news/14/12/5071407/wo...   Lisa Levin   \n",
      "\n",
      "                          date stock  headline_length  year  month  day  \\\n",
      "748  2015-09-09 12:35:24-04:00  ADAT               49  2015      9    9   \n",
      "2173 2016-04-26 11:20:37-04:00  ALXA               46  2016      4   26   \n",
      "2277 2016-07-18 11:33:45-04:00  AMCO               45  2016      7   18   \n",
      "2968 2020-01-08 13:07:12-04:00   APC               75  2020      1    8   \n",
      "3018 2014-12-10 13:14:35-04:00   APL               49  2014     12   10   \n",
      "\n",
      "        weekday  Sentiment  \n",
      "748   Wednesday       -1.0  \n",
      "2173    Tuesday       -1.0  \n",
      "2277     Monday       -1.0  \n",
      "2968  Wednesday       -1.0  \n",
      "3018  Wednesday       -1.0  \n"
     ]
    }
   ],
   "source": [
    "most_negative_headlines=rw.nsmallest(5, 'Sentiment')\n",
    "print(\"\\nmost negative headlines\")\n",
    "print(most_negative_headlines)"
   ]
  },
  {
   "cell_type": "code",
   "execution_count": null,
   "id": "c08a39e3",
   "metadata": {},
   "outputs": [],
   "source": []
  }
 ],
 "metadata": {
  "kernelspec": {
   "display_name": "venv",
   "language": "python",
   "name": "python3"
  },
  "language_info": {
   "codemirror_mode": {
    "name": "ipython",
    "version": 3
   },
   "file_extension": ".py",
   "mimetype": "text/x-python",
   "name": "python",
   "nbconvert_exporter": "python",
   "pygments_lexer": "ipython3",
   "version": "3.12.3"
  }
 },
 "nbformat": 4,
 "nbformat_minor": 5
}
